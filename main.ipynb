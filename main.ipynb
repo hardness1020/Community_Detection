{
 "cells": [
  {
   "cell_type": "markdown",
   "metadata": {},
   "source": [
    "# **Community Detection**\n",
    "----"
   ]
  },
  {
   "cell_type": "markdown",
   "metadata": {},
   "source": [
    "### 1. Environment Setup\n",
    "Click on the button below to open the notebook in Google Colab and run the following commands to install the required libraries.\n",
    "\n",
    "[![Open In Colab](https://colab.research.google.com/assets/colab-badge.svg)](https://colab.research.google.com/github/hardness1020/Community_Detection/blob/main/main.ipynb)"
   ]
  },
  {
   "cell_type": "code",
   "execution_count": null,
   "metadata": {},
   "outputs": [],
   "source": [
    "!git clone https://github.com/hardness1020/Community_Detection.git"
   ]
  },
  {
   "cell_type": "code",
   "execution_count": null,
   "metadata": {},
   "outputs": [],
   "source": [
    "# For colab\n",
    "%cd Community_Detection\n",
    "%pip install -r requirements.txt\n",
    "!git clone https://github.com/6lyc/CDNMF.git\n",
    "\n",
    "# For local\n",
    "# %pip install -r requirements.txt\n",
    "!git clone https://github.com/6lyc/CDNMF.git"
   ]
  },
  {
   "cell_type": "code",
   "execution_count": null,
   "metadata": {},
   "outputs": [],
   "source": [
    "# Import packages\n",
    "import os\n",
    "import random\n",
    "import numpy as np\n",
    "import linecache\n",
    "import matplotlib.pyplot as plt\n",
    "import torch\n",
    "from tqdm import tqdm\n",
    "from datetime import datetime\n",
    "from CDNMF.Utils.evaluate import clusterscores\n",
    "from CDNMF.Dataset.dataset import Dataset\n",
    "from CDNMF.Model.my_model import Model\n",
    "from CDNMF.PreTrainer.pretrainer import PreTrainer\n",
    "from CDNMF.Utils import gpu_info\n",
    "\n",
    "# Check GPU\n",
    "device = torch.device('cuda:0') if torch.cuda.is_available() else torch.device('cpu')\n",
    "print('Device:', device)"
   ]
  },
  {
   "cell_type": "markdown",
   "metadata": {},
   "source": [
    "### 2. Methods"
   ]
  },
  {
   "cell_type": "markdown",
   "metadata": {},
   "source": [
    "#### 2.1. Spactral Clustering Method"
   ]
  },
  {
   "cell_type": "code",
   "execution_count": null,
   "metadata": {},
   "outputs": [],
   "source": []
  },
  {
   "cell_type": "markdown",
   "metadata": {},
   "source": [
    "#### 2.2. CDNMF Method\n",
    "- Recommended to use GPU for faster computation.\n",
    "- The output of prediction was stored in 'prediction/CDNMF_example.csv'.\n",
    "- The format of the output file is as follows:\n",
    "    - Each row represents the category of the corresponding node."
   ]
  },
  {
   "cell_type": "code",
   "execution_count": null,
   "metadata": {},
   "outputs": [],
   "source": [
    "# Set config\n",
    "\n",
    "random.seed(42)\n",
    "\n",
    "dataset_config = {'feature_file': './dataset/cora/features.txt',\n",
    "                  'graph_file': './dataset/cora/edges.txt',\n",
    "                  'walks_file': './dataset/cora/walks.txt',\n",
    "                  'label_file': './dataset/cora/group.txt',\n",
    "                  'device': device}\n",
    "graph = Dataset(dataset_config)\n",
    "\n",
    "pretrain_config = {\n",
    "    'net_shape': [1000, 500, 7],\n",
    "    'att_shape': [500, 200, 7],\n",
    "    'net_input_dim': graph.num_nodes,\n",
    "    'att_input_dim': graph.num_feas,\n",
    "    'seed': 42,\n",
    "    'pre_iterations': 100,\n",
    "    'pretrain_params_path': './CDNMF/Log/cora/pretrain_params.pkl'}\n",
    "\n",
    "model_config = {\n",
    "    'device': device,\n",
    "    'net_shape': [1000, 500, 7],\n",
    "    'att_shape': [500, 200, 7],\n",
    "    'net_input_dim': graph.num_nodes,\n",
    "    'att_input_dim': graph.num_feas,\n",
    "    'is_init': True,\n",
    "    'pretrain_params_path': './CDNMF/Log/cora/pretrain_params.pkl',\n",
    "    'tau': 1.3,\n",
    "    'conc': 5,\n",
    "    'negc': 400,\n",
    "    'rec': 1,\n",
    "    'r': 3,\n",
    "    'learning_rate': 0.01,\n",
    "    'weight_decay': 0.00001,\n",
    "    'epoch': 550,\n",
    "    'run': 20,\n",
    "    'model_path': './CDNMF/Log/cora/cora_model.pkl'\n",
    "}"
   ]
  },
  {
   "cell_type": "code",
   "execution_count": null,
   "metadata": {},
   "outputs": [],
   "source": [
    "# Train model\n",
    "\n",
    "# Load pretrain params\n",
    "model = Model(model_config).to(device)\n",
    "optimizer = torch.optim.Adam(model.parameters(), lr=model_config['learning_rate'])\n",
    "    \n",
    "# Train model\n",
    "for epoch in tqdm(range(model_config['epoch'])):\n",
    "    optimizer.zero_grad()\n",
    "    V = model()\n",
    "\n",
    "    loss, loss1, loss2, loss3, loss4, loss5 = model.loss(graph)\n",
    "    loss.backward()\n",
    "    optimizer.step()\n",
    "\n",
    "        \n",
    "# Write y_pred to file\n",
    "pred_dir = f'./prediction/'\n",
    "y_pred = np.argmax(V.detach().cpu().numpy(), axis=0)\n",
    "if not os.path.exists(pred_dir):\n",
    "    os.makedirs(pred_dir)\n",
    "with open(f'{pred_dir}CDNMF.txt', 'w') as f:\n",
    "    for i in y_pred:\n",
    "        f.write(str(i) + '\\n')"
   ]
  },
  {
   "cell_type": "markdown",
   "metadata": {},
   "source": [
    "### 3. Evaluation"
   ]
  },
  {
   "cell_type": "markdown",
   "metadata": {},
   "source": [
    "#### 3.1. Evaluation Metrics\n",
    "- **Accuracy**: A ratio of the number of correctly classified samples to the total number of samples.\n",
    "- **Normalized Mutual Information (NMI)**: A measure of the similarity between two clusterings of a set of data. It is often used to assess the quality of clusters created by an algorithm against some ground truth. \n",
    "- **Adjusted Rand Index (ARI)**: A measure of the similarity between two data clusterings. It considers all pairs of samples and counts pairs that are assigned in the same or different clusters in the predicted and true clusterings.\n",
    "- **Adjusted Mutual Information (AMI)**: A measure of the agreement between two clusterings of the same data. It measures the amount of information obtained about one clustering by knowing another.\n"
   ]
  },
  {
   "cell_type": "code",
   "execution_count": 7,
   "metadata": {},
   "outputs": [],
   "source": [
    "import numpy as np\n",
    "from sklearn.metrics.cluster import normalized_mutual_info_score, adjusted_rand_score, adjusted_mutual_info_score\n",
    "from scipy.optimize import linear_sum_assignment\n",
    "\n",
    "def cluster_acc(y_pred, y_true):\n",
    "    y_true = y_true.astype(np.int64)\n",
    "    y_pred = y_pred.astype(np.int64)\n",
    "    assert y_pred.size == y_true.size\n",
    "    D = max(y_pred.max().astype(int), y_true.max().astype(int)) + 1\n",
    "    w = np.zeros((D, D), dtype=np.int64)\n",
    "    for i in range(y_pred.size):\n",
    "        w[y_pred[i], y_true[i]] += 1\n",
    "\n",
    "    # ind = sklearn.utils.linear_assignment_.linear_assignment(w.max() - w)\n",
    "    # row_ind, col_ind = linear_assignment(w.max() - w)\n",
    "    row_ind, col_ind = linear_sum_assignment(w.max() - w)\n",
    "    return sum([w[i, j] for i, j in zip(row_ind, col_ind)]) * 1.0 / y_pred.size\n",
    "\n",
    "def clusterscores(pred: np.array, target: np.array):\n",
    "    ACC = cluster_acc(pred, target)\n",
    "    NMI = normalized_mutual_info_score(target, pred)\n",
    "    ARI = adjusted_rand_score(target, pred)\n",
    "    AMI = adjusted_mutual_info_score(target, pred)\n",
    "    return {'ACC': ACC, 'NMI': NMI, 'ARI': ARI, 'AMI': AMI}"
   ]
  },
  {
   "cell_type": "code",
   "execution_count": null,
   "metadata": {},
   "outputs": [
    {
     "data": {
      "text/plain": [
       "{'ACC': 0.6144756277695717,\n",
       " 'NMI': 0.3980022280364673,\n",
       " 'ARI': 0.38495332353352185,\n",
       " 'AMI': 0.39573388733062054}"
      ]
     },
     "execution_count": 12,
     "metadata": {},
     "output_type": "execute_result"
    }
   ],
   "source": [
    "import pandas as pd\n",
    "\n",
    "# Set the path to the prediction file. \n",
    "# By default, the example prediction file is used. \n",
    "# Use the other path if running the CDNMF model.\n",
    "CDNMF_path = 'prediction/CDNMF_example.txt'\n",
    "# CDNMF_path = 'prediction/CDNMF.txt'\n",
    "\n",
    "y_pred_CDNMF = pd.read_csv(CDNMF_path, header=None).values[:, 0]\n",
    "y_true = pd.read_csv('dataset/cora/group.txt', header=None, delimiter=' ').values[:, 1]\n",
    "\n",
    "scores_CDNMF = clusterscores(y_pred_CDNMF, y_true)\n",
    "scores_CDNMF\n",
    "\n"
   ]
  },
  {
   "cell_type": "markdown",
   "metadata": {},
   "source": [
    "#### 3.2. Visualization"
   ]
  },
  {
   "cell_type": "code",
   "execution_count": null,
   "metadata": {},
   "outputs": [],
   "source": [
    "# Load the membership data\n",
    "with open('output/cora_membership.json') as f:\n",
    "    membership = json.load(f)\n",
    "\n",
    "# Create a graph\n",
    "G = nx.read_edgelist('input/cora_edges.csv', delimiter=',')\n",
    "\n",
    "# Assign colors to nodes based on their community\n",
    "# Use a default color (-1) for nodes not in the membership dictionary\n",
    "default_color = -1\n",
    "colors = [membership.get(str(node), default_color) for node in G.nodes()]\n",
    "\n",
    "# Draw the graph with edges\n",
    "plt.figure(figsize=(20, 20))\n",
    "pos = nx.spring_layout(G)\n",
    "nx.draw_networkx_edges(G, pos, alpha=0.5)  # Explicitly draw edges\n",
    "nx.draw_networkx_nodes(G, pos, node_color=colors, cmap=plt.cm.rainbow, node_size=20)  # Draw nodes\n",
    "plt.show()"
   ]
  },
  {
   "cell_type": "code",
   "execution_count": null,
   "metadata": {},
   "outputs": [],
   "source": [
    "def visualize_community(graph, memberships):\n",
    "    G = nx.Graph()\n",
    "    edges = np.loadtxt(graph.graph_file, dtype=int)\n",
    "    G.add_edges_from(edges)\n",
    "    \n",
    "    pos = nx.spring_layout(G)\n",
    "    colors = [memberships[node] for node in G.nodes]\n",
    "    \n",
    "    plt.figure(figsize=(20, 20))\n",
    "    nx.draw_networkx_edges(G, pos, alpha=0.5)  # Explicitly draw edges\n",
    "    nx.draw_networkx(G, pos, node_color=colors, with_labels=False, node_size=20, cmap=plt.cm.rainbow)\n",
    "    plt.show()\n",
    "\n",
    "# visualize_community(graph, y_pred)"
   ]
  }
 ],
 "metadata": {
  "kernelspec": {
   "display_name": "Python 3",
   "language": "python",
   "name": "python3"
  },
  "language_info": {
   "codemirror_mode": {
    "name": "ipython",
    "version": 3
   },
   "file_extension": ".py",
   "mimetype": "text/x-python",
   "name": "python",
   "nbconvert_exporter": "python",
   "pygments_lexer": "ipython3",
   "version": "3.11.8"
  }
 },
 "nbformat": 4,
 "nbformat_minor": 2
}
