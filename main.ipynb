{
 "cells": [
  {
   "cell_type": "markdown",
   "metadata": {},
   "source": [
    "# **Community Detection**\n",
    "----"
   ]
  },
  {
   "cell_type": "markdown",
   "metadata": {},
   "source": [
    "### 1. Environment Setup\n",
    "Click on the button below to open the notebook in Google Colab and run the following commands to install the required libraries.\n",
    "\n",
    "[![Open In Colab](https://colab.research.google.com/assets/colab-badge.svg)](https://colab.research.google.com/github/hardness1020/Community_Detection/blob/main/main.ipynb)"
   ]
  },
  {
   "cell_type": "code",
   "execution_count": null,
   "metadata": {},
   "outputs": [],
   "source": [
    "!git clone https://github.com/hardness1020/Community_Detection.git"
   ]
  },
  {
   "cell_type": "code",
   "execution_count": null,
   "metadata": {},
   "outputs": [],
   "source": [
    "# For colab\n",
    "%cd Community_Detection\n",
    "%pip install -r requirements.txt\n",
    "!git clone https://github.com/6lyc/CDNMF.git\n",
    "\n",
    "# For local\n",
    "# %pip install -r requirements.txt\n",
    "!git clone https://github.com/6lyc/CDNMF.git"
   ]
  },
  {
   "cell_type": "markdown",
   "metadata": {},
   "source": [
    "### 2. Methods"
   ]
  },
  {
   "cell_type": "markdown",
   "metadata": {},
   "source": [
    "#### 2-1. Spactral Clustering Method"
   ]
  },
  {
   "cell_type": "code",
   "execution_count": null,
   "metadata": {},
   "outputs": [],
   "source": [
    "import os\n",
    "import random\n",
    "import numpy as np\n",
    "import linecache\n",
    "import matplotlib.pyplot as plt\n",
    "import torch\n",
    "from tqdm import tqdm\n",
    "from datetime import datetime\n",
    "from CDNMF.Utils.evaluate import clusterscores\n",
    "from CDNMF.Dataset.dataset import Dataset\n",
    "from CDNMF.Model.my_model import Model\n",
    "from CDNMF.PreTrainer.pretrainer import PreTrainer\n",
    "from CDNMF.Utils import gpu_info"
   ]
  },
  {
   "cell_type": "code",
   "execution_count": null,
   "metadata": {},
   "outputs": [],
   "source": [
    "# Check GPU\n",
    "if torch.cuda.is_available():\n",
    "    gpu_info.get_info()\n",
    "    device = torch.device('cuda:0')\n",
    "else:\n",
    "    device = torch.device('cpu')"
   ]
  },
  {
   "cell_type": "code",
   "execution_count": null,
   "metadata": {},
   "outputs": [],
   "source": [
    "def train(model: Model, graph, optimizer, iteration):\n",
    "    optimizer.zero_grad()\n",
    "    V = model()\n",
    "\n",
    "    loss, loss1, loss2, loss3, loss4, loss5 = model.loss(graph)\n",
    "    loss.backward()\n",
    "    optimizer.step()\n",
    "\n",
    "    y_pred = np.argmax(V.detach().cpu().numpy(), axis=0)\n",
    "    y_true = graph.L.detach().cpu().numpy()\n",
    "    # print(y_pred)\n",
    "    # scores = clusterscores(y_pred, y_true)\n",
    "    \n",
    "    # write y_pred to file\n",
    "    time = datetime.datetime.now().strftime('%Y_%m_%d_%H_%M_%S')\n",
    "    cora_pred_dir = f'./prediction/cora/{iteration}/'\n",
    "    if not os.path.exists(cora_pred_dir):\n",
    "        os.makedirs(cora_pred_dir)\n",
    "    with open(f'{cora_pred_dir}{time}.txt', 'w') as f:\n",
    "        for i in y_pred:\n",
    "            f.write(str(i) + '\\n')\n",
    "\n",
    "    return loss.item(), loss1.item(), loss2.item(), loss3.item(), loss4.item(), loss5.item()"
   ]
  },
  {
   "cell_type": "code",
   "execution_count": null,
   "metadata": {},
   "outputs": [],
   "source": [
    "random.seed(42)\n",
    "\n",
    "dataset_config = {'feature_file': './dataset/cora/features.txt',\n",
    "                  'graph_file': './dataset/cora/edges.txt',\n",
    "                  'walks_file': './dataset/cora/walks.txt',\n",
    "                  'label_file': './dataset/cora/group.txt',\n",
    "                  'device': device}\n",
    "graph = Dataset(dataset_config)\n",
    "\n",
    "pretrain_config = {\n",
    "    'net_shape': [1000, 500, 7],\n",
    "    'att_shape': [500, 200, 7],\n",
    "    'net_input_dim': graph.num_nodes,\n",
    "    'att_input_dim': graph.num_feas,\n",
    "    'seed': 42,\n",
    "    'pre_iterations': 100,\n",
    "    'pretrain_params_path': './CDNMF/Log/cora/pretrain_params.pkl'}\n",
    "\n",
    "model_config = {\n",
    "    'device': device,\n",
    "    'net_shape': [1000, 500, 7],\n",
    "    'att_shape': [500, 200, 7],\n",
    "    'net_input_dim': graph.num_nodes,\n",
    "    'att_input_dim': graph.num_feas,\n",
    "    'is_init': True,\n",
    "    'pretrain_params_path': './CDNMF/Log/cora/pretrain_params.pkl',\n",
    "    'tau': 1.3,\n",
    "    'conc': 5,\n",
    "    'negc': 400,\n",
    "    'rec': 1,\n",
    "    'r': 3,\n",
    "    'learning_rate': 0.01,\n",
    "    'weight_decay': 0.00001,\n",
    "    'epoch': 550,\n",
    "    'run': 20,\n",
    "    'model_path': './CDNMF/Log/cora/cora_model.pkl'\n",
    "}\n",
    "\n",
    "# 'Pre-training stage'\n",
    "# pretrainer = PreTrainer(pretrain_config)\n",
    "# pretrainer.pre_training(graph.A.detach().cpu().numpy(), 'net')\n",
    "# pretrainer.pre_training(graph.X.t().detach().cpu().numpy(), 'att')\n",
    "\n",
    "learning_rate = model_config['learning_rate']\n",
    "weight_decay = model_config['weight_decay']\n",
    "\n",
    "M = []\n",
    "N = []\n",
    "\n",
    "# 'Fine-tuning stage'\n",
    "for i in range(20):\n",
    "    model = Model(model_config).to(device)\n",
    "    optimizer = torch.optim.Adam(model.parameters(), lr=learning_rate)\n",
    "    \n",
    "    for epoch in tqdm(range(model_config['epoch'])):\n",
    "        loss, loss1, loss2, loss3, loss4, loss5, scores = train(model, graph, optimizer, i)\n",
    "        \n",
    "#     M.append(scores['ACC'])\n",
    "#     N.append(scores['NMI'])\n",
    "#     # print(acc)\n",
    "# print('ACC: ', np.mean(M), '; NMI: ', np.mean(N))\n",
    "# print(\"=== Final ===\")"
   ]
  },
  {
   "cell_type": "code",
   "execution_count": null,
   "metadata": {},
   "outputs": [],
   "source": []
  },
  {
   "cell_type": "markdown",
   "metadata": {},
   "source": [
    "#### 2-2. CDNMF Method"
   ]
  },
  {
   "cell_type": "code",
   "execution_count": null,
   "metadata": {},
   "outputs": [],
   "source": []
  }
 ],
 "metadata": {
  "kernelspec": {
   "display_name": "Python 3",
   "language": "python",
   "name": "python3"
  },
  "language_info": {
   "codemirror_mode": {
    "name": "ipython",
    "version": 3
   },
   "file_extension": ".py",
   "mimetype": "text/x-python",
   "name": "python",
   "nbconvert_exporter": "python",
   "pygments_lexer": "ipython3",
   "version": "3.11.8"
  }
 },
 "nbformat": 4,
 "nbformat_minor": 2
}
